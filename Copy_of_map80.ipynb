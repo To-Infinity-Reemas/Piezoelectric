{
  "nbformat": 4,
  "nbformat_minor": 0,
  "metadata": {
    "colab": {
      "provenance": [],
      "include_colab_link": true
    },
    "kernelspec": {
      "name": "python3",
      "display_name": "Python 3"
    },
    "language_info": {
      "name": "python"
    }
  },
  "cells": [
    {
      "cell_type": "markdown",
      "metadata": {
        "id": "view-in-github",
        "colab_type": "text"
      },
      "source": [
        "<a href=\"https://colab.research.google.com/github/To-Infinity-Reemas/Piezoelectric/blob/main/Copy_of_map80.ipynb\" target=\"_parent\"><img src=\"https://colab.research.google.com/assets/colab-badge.svg\" alt=\"Open In Colab\"/></a>"
      ]
    },
    {
      "cell_type": "code",
      "source": [
        "pip install pandas numpy scikit-learn folium openpyxl"
      ],
      "metadata": {
        "colab": {
          "base_uri": "https://localhost:8080/"
        },
        "id": "V2WJtPWlpLtd",
        "outputId": "02d65ed8-a9e2-4003-bc7b-1af15c91f291"
      },
      "execution_count": null,
      "outputs": [
        {
          "output_type": "stream",
          "name": "stdout",
          "text": [
            "Requirement already satisfied: pandas in /usr/local/lib/python3.11/dist-packages (2.2.2)\n",
            "Requirement already satisfied: numpy in /usr/local/lib/python3.11/dist-packages (2.0.2)\n",
            "Requirement already satisfied: scikit-learn in /usr/local/lib/python3.11/dist-packages (1.6.1)\n",
            "Requirement already satisfied: folium in /usr/local/lib/python3.11/dist-packages (0.19.5)\n",
            "Requirement already satisfied: openpyxl in /usr/local/lib/python3.11/dist-packages (3.1.5)\n",
            "Requirement already satisfied: python-dateutil>=2.8.2 in /usr/local/lib/python3.11/dist-packages (from pandas) (2.8.2)\n",
            "Requirement already satisfied: pytz>=2020.1 in /usr/local/lib/python3.11/dist-packages (from pandas) (2025.2)\n",
            "Requirement already satisfied: tzdata>=2022.7 in /usr/local/lib/python3.11/dist-packages (from pandas) (2025.2)\n",
            "Requirement already satisfied: scipy>=1.6.0 in /usr/local/lib/python3.11/dist-packages (from scikit-learn) (1.14.1)\n",
            "Requirement already satisfied: joblib>=1.2.0 in /usr/local/lib/python3.11/dist-packages (from scikit-learn) (1.4.2)\n",
            "Requirement already satisfied: threadpoolctl>=3.1.0 in /usr/local/lib/python3.11/dist-packages (from scikit-learn) (3.6.0)\n",
            "Requirement already satisfied: branca>=0.6.0 in /usr/local/lib/python3.11/dist-packages (from folium) (0.8.1)\n",
            "Requirement already satisfied: jinja2>=2.9 in /usr/local/lib/python3.11/dist-packages (from folium) (3.1.6)\n",
            "Requirement already satisfied: requests in /usr/local/lib/python3.11/dist-packages (from folium) (2.32.3)\n",
            "Requirement already satisfied: xyzservices in /usr/local/lib/python3.11/dist-packages (from folium) (2025.1.0)\n",
            "Requirement already satisfied: et-xmlfile in /usr/local/lib/python3.11/dist-packages (from openpyxl) (2.0.0)\n",
            "Requirement already satisfied: MarkupSafe>=2.0 in /usr/local/lib/python3.11/dist-packages (from jinja2>=2.9->folium) (3.0.2)\n",
            "Requirement already satisfied: six>=1.5 in /usr/local/lib/python3.11/dist-packages (from python-dateutil>=2.8.2->pandas) (1.17.0)\n",
            "Requirement already satisfied: charset-normalizer<4,>=2 in /usr/local/lib/python3.11/dist-packages (from requests->folium) (3.4.1)\n",
            "Requirement already satisfied: idna<4,>=2.5 in /usr/local/lib/python3.11/dist-packages (from requests->folium) (3.10)\n",
            "Requirement already satisfied: urllib3<3,>=1.21.1 in /usr/local/lib/python3.11/dist-packages (from requests->folium) (2.3.0)\n",
            "Requirement already satisfied: certifi>=2017.4.17 in /usr/local/lib/python3.11/dist-packages (from requests->folium) (2025.1.31)\n"
          ]
        }
      ]
    },
    {
      "cell_type": "code",
      "source": [
        "import pandas as pd\n",
        "import numpy as np\n",
        "import folium\n",
        "from sklearn.cluster import DBSCAN\n",
        "from sklearn.preprocessing import StandardScaler"
      ],
      "metadata": {
        "id": "Lf2XzP4vhT7D"
      },
      "execution_count": null,
      "outputs": []
    },
    {
      "cell_type": "code",
      "source": [
        "#ملف اكسل للبيانات الملعب\n",
        "file_path = \"/content/generated_data_24hrar.xlsx\"\n",
        "df = pd.read_excel(file_path)"
      ],
      "metadata": {
        "id": "E9vHDQmDh2Hp"
      },
      "execution_count": null,
      "outputs": []
    },
    {
      "cell_type": "code",
      "source": [
        "#تنظيف البيانات\n",
        "#حذف القيم الناقصه\n",
        "df = df.dropna(subset=[\"ACC_X\", \"ACC_Y\", \"Steps\"])\n"
      ],
      "metadata": {
        "id": "QJ_2drUyh9k0"
      },
      "execution_count": null,
      "outputs": []
    },
    {
      "cell_type": "code",
      "source": [
        "#احصائيات الخطوات\n",
        "Q1 = df[\"Steps\"].quantile(0.25)\n",
        "Q2 = df[\"Steps\"].median()\n",
        "Q3 = df[\"Steps\"].quantile(0.75)\n",
        "IQR = Q3 - Q1"
      ],
      "metadata": {
        "id": "Dr4cRcvklwoe"
      },
      "execution_count": null,
      "outputs": []
    },
    {
      "cell_type": "code",
      "source": [
        "#داله لتحديد اللون حسب الخطوات\n",
        "def get_color(steps):\n",
        "    if steps < Q1:\n",
        "        return \"blue\"      # قليل جدًا\n",
        "    elif Q1 <= steps < Q2:\n",
        "        return \"cyan\"      # قليل\n",
        "    elif Q2 <= steps < Q3:\n",
        "        return \"green\"     # متوسط\n",
        "    elif Q3 <= steps < (Q3 + 1.5 * IQR):\n",
        "        return \"yellow\"    # كثير\n",
        "    else:\n",
        "        return \"red\"       # مستحيل (قيمة شاذة)"
      ],
      "metadata": {
        "id": "YVZKrpCfpjBo"
      },
      "execution_count": null,
      "outputs": []
    },
    {
      "cell_type": "code",
      "source": [
        "#تجهيز البيانات لمودل DBSCAN\n",
        "X = df[[\"ACC_X\", \"ACC_Y\"]].values\n",
        "scaler = StandardScaler()\n",
        "X_scaled = scaler.fit_transform(X)"
      ],
      "metadata": {
        "id": "_HAZdBL6plE_"
      },
      "execution_count": null,
      "outputs": []
    },
    {
      "cell_type": "code",
      "source": [
        "#تنفيذ مودل DBSCAN\n",
        "db = DBSCAN(eps=0.3, min_samples=5).fit(X_scaled)\n",
        "df[\"Cluster\"] = db.labels_"
      ],
      "metadata": {
        "id": "bE3WOCagptks"
      },
      "execution_count": null,
      "outputs": []
    },
    {
      "cell_type": "code",
      "source": [
        "#معرفة عدد العناقيد\n",
        "n_clusters = len(set(db.labels_)) - (1 if -1 in db.labels_ else 0)\n",
        "print(f\" clusters {n_clusters}\")\n",
        "print(f\" noise (Noise): {list(db.labels_).count(-1)}\")"
      ],
      "metadata": {
        "colab": {
          "base_uri": "https://localhost:8080/"
        },
        "id": "dC7RpDtepxtI",
        "outputId": "126efdab-280f-40cd-d913-81ef978ff291"
      },
      "execution_count": null,
      "outputs": [
        {
          "output_type": "stream",
          "name": "stdout",
          "text": [
            " clusters 5\n",
            " noise (Noise): 19\n"
          ]
        }
      ]
    },
    {
      "cell_type": "code",
      "source": [
        "#تعيين الوان للعناقيد\n",
        "cluster_colors = [\"purple\", \"orange\", \"brown\", \"pink\", \"gray\", \"darkgreen\", \"black\", \"lightblue\", \"darkred\", \"beige\"]\n",
        "def cluster_color(c):\n",
        "    if c == -1:\n",
        "        return \"black\"  # ضجيج\n",
        "    else:\n",
        "        return cluster_colors[c % len(cluster_colors)]"
      ],
      "metadata": {
        "id": "Eip_Holvp-Qe"
      },
      "execution_count": null,
      "outputs": []
    },
    {
      "cell_type": "code",
      "source": [
        "#رسم الخريطه\n",
        "m = folium.Map(location=[df[\"ACC_X\"].mean(), df[\"ACC_Y\"].mean()], zoom_start=15)\n",
        "\n",
        "#إضافة المستطيل الأخضر حول جميع النقاط\n",
        "min_x, max_x = df[\"ACC_X\"].min(), df[\"ACC_X\"].max()\n",
        "min_y, max_y = df[\"ACC_Y\"].min(), df[\"ACC_Y\"].max()\n",
        "\n",
        "folium.Rectangle(\n",
        "    bounds=[(min_y, min_x), (max_y, max_x)],\n",
        "    color=\"green\",\n",
        "    fill=True,\n",
        "    fill_color=\"green\",\n",
        "    fill_opacity=0.2\n",
        ").add_to(m)"
      ],
      "metadata": {
        "colab": {
          "base_uri": "https://localhost:8080/"
        },
        "id": "v3aKHLDmv4mO",
        "outputId": "79c44095-5c19-44a5-afb0-a024d1b85bc7"
      },
      "execution_count": null,
      "outputs": [
        {
          "output_type": "execute_result",
          "data": {
            "text/plain": [
              "<folium.vector_layers.Rectangle at 0x7bc2a1131750>"
            ]
          },
          "metadata": {},
          "execution_count": 11
        }
      ]
    },
    {
      "cell_type": "code",
      "source": [
        "#رسم الدوائر\n",
        "for i, row in df.iterrows():\n",
        "    step_color = get_color(row[\"Steps\"])\n",
        "    cluster_col = cluster_color(row[\"Cluster\"])\n",
        "\n",
        "    folium.CircleMarker(\n",
        "        location=[row[\"ACC_X\"], row[\"ACC_Y\"]],\n",
        "        radius=6,\n",
        "        color=cluster_col,\n",
        "        fill=True,\n",
        "        fill_color=step_color,\n",
        "        fill_opacity=0.8,\n",
        "        popup=folium.Popup(f\"\"\"\n",
        "            <b> الوقت:</b> {row['TIME']}<br>\n",
        "            <b> خطوات:</b> {row['Steps']}<br>\n",
        "            <b> الموقع:</b> X: {row['ACC_X']}, Y: {row['ACC_Y']}<br>\n",
        "            <b> Z:</b> {row['ACC_Z']}, <b>YAW:</b> {row['YAW']}°<br>\n",
        "            <b> cluste :</b> {row['Cluster']}\n",
        "        \"\"\", max_width=300)\n",
        "    ).add_to(m)\n",
        "\n",
        "max_x = df[\"ACC_X\"].max()  # أعلى إحداثي X\n",
        "max_y = df[\"ACC_Y\"].max()  # أعلى إحداثي Y\n",
        "offset_x = 0.0005  # يتحكم بعرض الملعب\n",
        "offset_y = 0.0007  # يتحكم بطول الملعب\n",
        "\n",
        "bounds = [\n",
        "    [max_x - offset_y, max_y - offset_x],  # الزاوية السفلية اليسرى\n",
        "    [max_x + offset_y, max_y + offset_x]   # الزاوية العلوية اليمنى\n",
        "]\n",
        "\n"
      ],
      "metadata": {
        "id": "HI6XHnenqD4p"
      },
      "execution_count": null,
      "outputs": []
    },
    {
      "cell_type": "code",
      "source": [
        "#توضيح لتدرج الالوان\n",
        "legend_html = f\"\"\"\n",
        "<div style=\"\n",
        "    position: fixed;\n",
        "    bottom: 30px; left: 30px; width: 280px; height: 210px;\n",
        "    background-color: white; border:2px solid grey; z-index:9999; font-size:14px;\n",
        "    padding: 10px;\">\n",
        "<b>شرح التدرج اللوني للخطوات</b><br>\n",
        "<i style='background:blue; display:inline-block; width:10px; height:10px; margin-right:5px;'></i> خطوة قليلة جداً: أقل من {Q1:.0f}<br>\n",
        "<i style='background:cyan; display:inline-block; width:10px; height:10px; margin-right:5px;'></i> خطوة قليلة: بين {Q1:.0f} و {Q2:.0f}<br>\n",
        "<i style='background:green; display:inline-block; width:10px; height:10px; margin-right:5px;'></i> خطوة متوسطة: بين {Q2:.0f} و {Q3:.0f}<br>\n",
        "<i style='background:yellow; display:inline-block; width:10px; height:10px; margin-right:5px;'></i> خطوة كثيرة: بين {Q3:.0f} و {Q3 + 1.5 * IQR:.0f}<br>\n",
        "<i style='background:red; color:white; display:inline-block; width:10px; height:10px; margin-right:5px;'></i> خطوة كثيرة جداً: أكثر من {Q3 + 1.5 * IQR:.0f}<br>\n",
        "<hr style=\"margin:5px 0\">\n",
        "<b>شرح ألوان الحدود</b><br>\n",
        "<i style='color:black; border:1px solid black; padding:1px; border-radius:50%; display:inline-block;'>&#9679;</i> noise (Noise)<br>\n",
        "<i style='color:purple; border:1px solid purple; padding:1px; border-radius:50%; display:inline-block;'>&#9679;</i> cluster 0.0<br>\n",
        "</div>\n",
        "\"\"\"\n",
        "m.get_root().html.add_child(folium.Element(legend_html))"
      ],
      "metadata": {
        "colab": {
          "base_uri": "https://localhost:8080/"
        },
        "id": "A_nPfsh7qIiL",
        "outputId": "fd7c7368-1d75-4d86-baaa-4029176afba4"
      },
      "execution_count": null,
      "outputs": [
        {
          "output_type": "execute_result",
          "data": {
            "text/plain": [
              "<branca.element.Element at 0x7bc2db473bd0>"
            ]
          },
          "metadata": {},
          "execution_count": 13
        }
      ]
    },
    {
      "cell_type": "code",
      "source": [
        "#حفظ الخريطه\n",
        "m.save(\"clustered_map12.html\")\n",
        "print(\" تم حفظ الخريطة باسم clustered_map.html مع تلوين حسب DBSCAN والخطوات\")"
      ],
      "metadata": {
        "colab": {
          "base_uri": "https://localhost:8080/"
        },
        "id": "uL-ADOa2qcJ9",
        "outputId": "7c9f8df5-7224-4950-9b2e-7fc8885a5514"
      },
      "execution_count": null,
      "outputs": [
        {
          "output_type": "stream",
          "name": "stdout",
          "text": [
            " تم حفظ الخريطة باسم clustered_map.html مع تلوين حسب DBSCAN والخطوات\n"
          ]
        }
      ]
    }
  ]
}